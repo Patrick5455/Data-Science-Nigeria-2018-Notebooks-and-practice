{
 "cells": [
  {
   "cell_type": "code",
   "execution_count": 4,
   "metadata": {},
   "outputs": [
    {
     "data": {
      "text/html": [
       "<div>\n",
       "<style scoped>\n",
       "    .dataframe tbody tr th:only-of-type {\n",
       "        vertical-align: middle;\n",
       "    }\n",
       "\n",
       "    .dataframe tbody tr th {\n",
       "        vertical-align: top;\n",
       "    }\n",
       "\n",
       "    .dataframe thead th {\n",
       "        text-align: right;\n",
       "    }\n",
       "</style>\n",
       "<table border=\"1\" class=\"dataframe\">\n",
       "  <thead>\n",
       "    <tr style=\"text-align: right;\">\n",
       "      <th></th>\n",
       "      <th>Product_Identifier</th>\n",
       "      <th>Supermarket_Identifier</th>\n",
       "      <th>Product_Supermarket_Identifier</th>\n",
       "      <th>Product_Weight</th>\n",
       "      <th>Product_Fat_Content</th>\n",
       "      <th>Product_Shelf_Visibility</th>\n",
       "      <th>Product_Type</th>\n",
       "      <th>Product_Price</th>\n",
       "      <th>Supermarket_Opening_Year</th>\n",
       "      <th>Supermarket_Size</th>\n",
       "      <th>Supermarket_Location_Type</th>\n",
       "      <th>Supermarket_Type</th>\n",
       "      <th>Product_Supermarket_Sales</th>\n",
       "    </tr>\n",
       "  </thead>\n",
       "  <tbody>\n",
       "    <tr>\n",
       "      <th>0</th>\n",
       "      <td>DRA12</td>\n",
       "      <td>CHUKWUDI010</td>\n",
       "      <td>DRA12_CHUKWUDI010</td>\n",
       "      <td>11.6</td>\n",
       "      <td>Low Fat</td>\n",
       "      <td>0.068535</td>\n",
       "      <td>Soft Drinks</td>\n",
       "      <td>357.54</td>\n",
       "      <td>2005</td>\n",
       "      <td>NaN</td>\n",
       "      <td>Cluster 3</td>\n",
       "      <td>Grocery Store</td>\n",
       "      <td>709.08</td>\n",
       "    </tr>\n",
       "    <tr>\n",
       "      <th>1</th>\n",
       "      <td>DRA12</td>\n",
       "      <td>CHUKWUDI013</td>\n",
       "      <td>DRA12_CHUKWUDI013</td>\n",
       "      <td>11.6</td>\n",
       "      <td>Low Fat</td>\n",
       "      <td>0.040912</td>\n",
       "      <td>Soft Drinks</td>\n",
       "      <td>355.79</td>\n",
       "      <td>1994</td>\n",
       "      <td>High</td>\n",
       "      <td>Cluster 3</td>\n",
       "      <td>Supermarket Type1</td>\n",
       "      <td>6381.69</td>\n",
       "    </tr>\n",
       "    <tr>\n",
       "      <th>2</th>\n",
       "      <td>DRA12</td>\n",
       "      <td>CHUKWUDI017</td>\n",
       "      <td>DRA12_CHUKWUDI017</td>\n",
       "      <td>11.6</td>\n",
       "      <td>Low Fat</td>\n",
       "      <td>0.041178</td>\n",
       "      <td>Soft Drinks</td>\n",
       "      <td>350.79</td>\n",
       "      <td>2014</td>\n",
       "      <td>NaN</td>\n",
       "      <td>Cluster 2</td>\n",
       "      <td>Supermarket Type1</td>\n",
       "      <td>6381.69</td>\n",
       "    </tr>\n",
       "    <tr>\n",
       "      <th>3</th>\n",
       "      <td>DRA12</td>\n",
       "      <td>CHUKWUDI018</td>\n",
       "      <td>DRA12_CHUKWUDI018</td>\n",
       "      <td>11.6</td>\n",
       "      <td>Low Fat</td>\n",
       "      <td>0.041113</td>\n",
       "      <td>Soft Drinks</td>\n",
       "      <td>355.04</td>\n",
       "      <td>2016</td>\n",
       "      <td>Medium</td>\n",
       "      <td>Cluster 3</td>\n",
       "      <td>Supermarket Type2</td>\n",
       "      <td>2127.23</td>\n",
       "    </tr>\n",
       "    <tr>\n",
       "      <th>4</th>\n",
       "      <td>DRA12</td>\n",
       "      <td>CHUKWUDI035</td>\n",
       "      <td>DRA12_CHUKWUDI035</td>\n",
       "      <td>11.6</td>\n",
       "      <td>Ultra Low fat</td>\n",
       "      <td>0.000000</td>\n",
       "      <td>Soft Drinks</td>\n",
       "      <td>354.79</td>\n",
       "      <td>2011</td>\n",
       "      <td>Small</td>\n",
       "      <td>Cluster 2</td>\n",
       "      <td>Supermarket Type1</td>\n",
       "      <td>2481.77</td>\n",
       "    </tr>\n",
       "  </tbody>\n",
       "</table>\n",
       "</div>"
      ],
      "text/plain": [
       "  Product_Identifier Supermarket_Identifier Product_Supermarket_Identifier  \\\n",
       "0              DRA12            CHUKWUDI010              DRA12_CHUKWUDI010   \n",
       "1              DRA12            CHUKWUDI013              DRA12_CHUKWUDI013   \n",
       "2              DRA12            CHUKWUDI017              DRA12_CHUKWUDI017   \n",
       "3              DRA12            CHUKWUDI018              DRA12_CHUKWUDI018   \n",
       "4              DRA12            CHUKWUDI035              DRA12_CHUKWUDI035   \n",
       "\n",
       "   Product_Weight Product_Fat_Content  Product_Shelf_Visibility Product_Type  \\\n",
       "0            11.6             Low Fat                  0.068535  Soft Drinks   \n",
       "1            11.6             Low Fat                  0.040912  Soft Drinks   \n",
       "2            11.6             Low Fat                  0.041178  Soft Drinks   \n",
       "3            11.6             Low Fat                  0.041113  Soft Drinks   \n",
       "4            11.6       Ultra Low fat                  0.000000  Soft Drinks   \n",
       "\n",
       "   Product_Price  Supermarket_Opening_Year Supermarket_Size  \\\n",
       "0         357.54                      2005              NaN   \n",
       "1         355.79                      1994             High   \n",
       "2         350.79                      2014              NaN   \n",
       "3         355.04                      2016           Medium   \n",
       "4         354.79                      2011            Small   \n",
       "\n",
       "  Supermarket_Location_Type   Supermarket_Type  Product_Supermarket_Sales  \n",
       "0                 Cluster 3      Grocery Store                     709.08  \n",
       "1                 Cluster 3  Supermarket Type1                    6381.69  \n",
       "2                 Cluster 2  Supermarket Type1                    6381.69  \n",
       "3                 Cluster 3  Supermarket Type2                    2127.23  \n",
       "4                 Cluster 2  Supermarket Type1                    2481.77  "
      ]
     },
     "execution_count": 4,
     "metadata": {},
     "output_type": "execute_result"
    }
   ],
   "source": [
    "import pandas as pd\n",
    "import numpy as np\n",
    "\n",
    "#read the dsn data into a dataframe\n",
    "\n",
    "super = pd.read_csv('supmkt.csv')\n",
    "super.head()"
   ]
  },
  {
   "cell_type": "code",
   "execution_count": 5,
   "metadata": {},
   "outputs": [
    {
     "data": {
      "text/html": [
       "<div>\n",
       "<style scoped>\n",
       "    .dataframe tbody tr th:only-of-type {\n",
       "        vertical-align: middle;\n",
       "    }\n",
       "\n",
       "    .dataframe tbody tr th {\n",
       "        vertical-align: top;\n",
       "    }\n",
       "\n",
       "    .dataframe thead th {\n",
       "        text-align: right;\n",
       "    }\n",
       "</style>\n",
       "<table border=\"1\" class=\"dataframe\">\n",
       "  <thead>\n",
       "    <tr style=\"text-align: right;\">\n",
       "      <th></th>\n",
       "      <th>Product_Weight</th>\n",
       "      <th>Product_Shelf_Visibility</th>\n",
       "      <th>Product_Price</th>\n",
       "      <th>Supermarket_Opening_Year</th>\n",
       "      <th>Product_Supermarket_Sales</th>\n",
       "    </tr>\n",
       "  </thead>\n",
       "  <tbody>\n",
       "    <tr>\n",
       "      <th>count</th>\n",
       "      <td>4188.000000</td>\n",
       "      <td>4990.000000</td>\n",
       "      <td>4990.000000</td>\n",
       "      <td>4990.000000</td>\n",
       "      <td>4990.000000</td>\n",
       "    </tr>\n",
       "    <tr>\n",
       "      <th>mean</th>\n",
       "      <td>12.908838</td>\n",
       "      <td>0.066916</td>\n",
       "      <td>391.803796</td>\n",
       "      <td>2004.783567</td>\n",
       "      <td>6103.520164</td>\n",
       "    </tr>\n",
       "    <tr>\n",
       "      <th>std</th>\n",
       "      <td>4.703256</td>\n",
       "      <td>0.053058</td>\n",
       "      <td>119.378259</td>\n",
       "      <td>8.283151</td>\n",
       "      <td>4447.333835</td>\n",
       "    </tr>\n",
       "    <tr>\n",
       "      <th>min</th>\n",
       "      <td>4.555000</td>\n",
       "      <td>0.000000</td>\n",
       "      <td>78.730000</td>\n",
       "      <td>1992.000000</td>\n",
       "      <td>83.230000</td>\n",
       "    </tr>\n",
       "    <tr>\n",
       "      <th>25%</th>\n",
       "      <td>8.767500</td>\n",
       "      <td>0.027273</td>\n",
       "      <td>307.890000</td>\n",
       "      <td>1994.000000</td>\n",
       "      <td>2757.660000</td>\n",
       "    </tr>\n",
       "    <tr>\n",
       "      <th>50%</th>\n",
       "      <td>12.600000</td>\n",
       "      <td>0.053564</td>\n",
       "      <td>393.860000</td>\n",
       "      <td>2006.000000</td>\n",
       "      <td>5374.675000</td>\n",
       "    </tr>\n",
       "    <tr>\n",
       "      <th>75%</th>\n",
       "      <td>17.100000</td>\n",
       "      <td>0.095358</td>\n",
       "      <td>465.067500</td>\n",
       "      <td>2011.000000</td>\n",
       "      <td>8522.240000</td>\n",
       "    </tr>\n",
       "    <tr>\n",
       "      <th>max</th>\n",
       "      <td>21.350000</td>\n",
       "      <td>0.328391</td>\n",
       "      <td>667.220000</td>\n",
       "      <td>2016.000000</td>\n",
       "      <td>32717.410000</td>\n",
       "    </tr>\n",
       "  </tbody>\n",
       "</table>\n",
       "</div>"
      ],
      "text/plain": [
       "       Product_Weight  Product_Shelf_Visibility  Product_Price  \\\n",
       "count     4188.000000               4990.000000    4990.000000   \n",
       "mean        12.908838                  0.066916     391.803796   \n",
       "std          4.703256                  0.053058     119.378259   \n",
       "min          4.555000                  0.000000      78.730000   \n",
       "25%          8.767500                  0.027273     307.890000   \n",
       "50%         12.600000                  0.053564     393.860000   \n",
       "75%         17.100000                  0.095358     465.067500   \n",
       "max         21.350000                  0.328391     667.220000   \n",
       "\n",
       "       Supermarket_Opening_Year  Product_Supermarket_Sales  \n",
       "count               4990.000000                4990.000000  \n",
       "mean                2004.783567                6103.520164  \n",
       "std                    8.283151                4447.333835  \n",
       "min                 1992.000000                  83.230000  \n",
       "25%                 1994.000000                2757.660000  \n",
       "50%                 2006.000000                5374.675000  \n",
       "75%                 2011.000000                8522.240000  \n",
       "max                 2016.000000               32717.410000  "
      ]
     },
     "execution_count": 5,
     "metadata": {},
     "output_type": "execute_result"
    }
   ],
   "source": [
    "super.describe() # 5 numerical columns"
   ]
  },
  {
   "cell_type": "code",
   "execution_count": 6,
   "metadata": {},
   "outputs": [
    {
     "name": "stdout",
     "output_type": "stream",
     "text": [
      "<class 'pandas.core.frame.DataFrame'>\n",
      "RangeIndex: 4990 entries, 0 to 4989\n",
      "Data columns (total 13 columns):\n",
      "Product_Identifier                4990 non-null object\n",
      "Supermarket_Identifier            4990 non-null object\n",
      "Product_Supermarket_Identifier    4990 non-null object\n",
      "Product_Weight                    4188 non-null float64\n",
      "Product_Fat_Content               4990 non-null object\n",
      "Product_Shelf_Visibility          4990 non-null float64\n",
      "Product_Type                      4990 non-null object\n",
      "Product_Price                     4990 non-null float64\n",
      "Supermarket_Opening_Year          4990 non-null int64\n",
      "Supermarket_Size                  3540 non-null object\n",
      "Supermarket_Location_Type         4990 non-null object\n",
      "Supermarket_Type                  4990 non-null object\n",
      "Product_Supermarket_Sales         4990 non-null float64\n",
      "dtypes: float64(4), int64(1), object(8)\n",
      "memory usage: 506.9+ KB\n"
     ]
    }
   ],
   "source": [
    "super.info()"
   ]
  },
  {
   "cell_type": "code",
   "execution_count": 7,
   "metadata": {},
   "outputs": [
    {
     "data": {
      "text/plain": [
       "Product_Identifier                   0\n",
       "Supermarket_Identifier               0\n",
       "Product_Supermarket_Identifier       0\n",
       "Product_Weight                     802\n",
       "Product_Fat_Content                  0\n",
       "Product_Shelf_Visibility             0\n",
       "Product_Type                         0\n",
       "Product_Price                        0\n",
       "Supermarket_Opening_Year             0\n",
       "Supermarket_Size                  1450\n",
       "Supermarket_Location_Type            0\n",
       "Supermarket_Type                     0\n",
       "Product_Supermarket_Sales            0\n",
       "dtype: int64"
      ]
     },
     "execution_count": 7,
     "metadata": {},
     "output_type": "execute_result"
    }
   ],
   "source": [
    "super.isnull().sum() "
   ]
  },
  {
   "cell_type": "code",
   "execution_count": 8,
   "metadata": {},
   "outputs": [
    {
     "data": {
      "text/plain": [
       "4"
      ]
     },
     "execution_count": 8,
     "metadata": {},
     "output_type": "execute_result"
    }
   ],
   "source": [
    "len(super.Supermarket_Type.unique())"
   ]
  },
  {
   "cell_type": "code",
   "execution_count": 9,
   "metadata": {
    "scrolled": false
   },
   "outputs": [
    {
     "data": {
      "text/html": [
       "<div>\n",
       "<style scoped>\n",
       "    .dataframe tbody tr th:only-of-type {\n",
       "        vertical-align: middle;\n",
       "    }\n",
       "\n",
       "    .dataframe tbody tr th {\n",
       "        vertical-align: top;\n",
       "    }\n",
       "\n",
       "    .dataframe thead th {\n",
       "        text-align: right;\n",
       "    }\n",
       "</style>\n",
       "<table border=\"1\" class=\"dataframe\">\n",
       "  <thead>\n",
       "    <tr style=\"text-align: right;\">\n",
       "      <th></th>\n",
       "      <th>Product_Weight</th>\n",
       "      <th>Product_Fat_Content</th>\n",
       "      <th>Product_Shelf_Visibility</th>\n",
       "      <th>Product_Type</th>\n",
       "      <th>Product_Price</th>\n",
       "      <th>Supermarket_Opening_Year</th>\n",
       "      <th>Supermarket_Size</th>\n",
       "      <th>Supermarket_Location_Type</th>\n",
       "      <th>Supermarket_Type</th>\n",
       "      <th>Product_Supermarket_Sales</th>\n",
       "    </tr>\n",
       "  </thead>\n",
       "  <tbody>\n",
       "    <tr>\n",
       "      <th>0</th>\n",
       "      <td>11.6</td>\n",
       "      <td>Low Fat</td>\n",
       "      <td>0.068535</td>\n",
       "      <td>Soft Drinks</td>\n",
       "      <td>357.54</td>\n",
       "      <td>2005</td>\n",
       "      <td>NaN</td>\n",
       "      <td>Cluster 3</td>\n",
       "      <td>Grocery Store</td>\n",
       "      <td>709.08</td>\n",
       "    </tr>\n",
       "    <tr>\n",
       "      <th>1</th>\n",
       "      <td>11.6</td>\n",
       "      <td>Low Fat</td>\n",
       "      <td>0.040912</td>\n",
       "      <td>Soft Drinks</td>\n",
       "      <td>355.79</td>\n",
       "      <td>1994</td>\n",
       "      <td>High</td>\n",
       "      <td>Cluster 3</td>\n",
       "      <td>Supermarket Type1</td>\n",
       "      <td>6381.69</td>\n",
       "    </tr>\n",
       "    <tr>\n",
       "      <th>2</th>\n",
       "      <td>11.6</td>\n",
       "      <td>Low Fat</td>\n",
       "      <td>0.041178</td>\n",
       "      <td>Soft Drinks</td>\n",
       "      <td>350.79</td>\n",
       "      <td>2014</td>\n",
       "      <td>NaN</td>\n",
       "      <td>Cluster 2</td>\n",
       "      <td>Supermarket Type1</td>\n",
       "      <td>6381.69</td>\n",
       "    </tr>\n",
       "    <tr>\n",
       "      <th>3</th>\n",
       "      <td>11.6</td>\n",
       "      <td>Low Fat</td>\n",
       "      <td>0.041113</td>\n",
       "      <td>Soft Drinks</td>\n",
       "      <td>355.04</td>\n",
       "      <td>2016</td>\n",
       "      <td>Medium</td>\n",
       "      <td>Cluster 3</td>\n",
       "      <td>Supermarket Type2</td>\n",
       "      <td>2127.23</td>\n",
       "    </tr>\n",
       "    <tr>\n",
       "      <th>4</th>\n",
       "      <td>11.6</td>\n",
       "      <td>Ultra Low fat</td>\n",
       "      <td>0.000000</td>\n",
       "      <td>Soft Drinks</td>\n",
       "      <td>354.79</td>\n",
       "      <td>2011</td>\n",
       "      <td>Small</td>\n",
       "      <td>Cluster 2</td>\n",
       "      <td>Supermarket Type1</td>\n",
       "      <td>2481.77</td>\n",
       "    </tr>\n",
       "  </tbody>\n",
       "</table>\n",
       "</div>"
      ],
      "text/plain": [
       "   Product_Weight Product_Fat_Content  Product_Shelf_Visibility Product_Type  \\\n",
       "0            11.6             Low Fat                  0.068535  Soft Drinks   \n",
       "1            11.6             Low Fat                  0.040912  Soft Drinks   \n",
       "2            11.6             Low Fat                  0.041178  Soft Drinks   \n",
       "3            11.6             Low Fat                  0.041113  Soft Drinks   \n",
       "4            11.6       Ultra Low fat                  0.000000  Soft Drinks   \n",
       "\n",
       "   Product_Price  Supermarket_Opening_Year Supermarket_Size  \\\n",
       "0         357.54                      2005              NaN   \n",
       "1         355.79                      1994             High   \n",
       "2         350.79                      2014              NaN   \n",
       "3         355.04                      2016           Medium   \n",
       "4         354.79                      2011            Small   \n",
       "\n",
       "  Supermarket_Location_Type   Supermarket_Type  Product_Supermarket_Sales  \n",
       "0                 Cluster 3      Grocery Store                     709.08  \n",
       "1                 Cluster 3  Supermarket Type1                    6381.69  \n",
       "2                 Cluster 2  Supermarket Type1                    6381.69  \n",
       "3                 Cluster 3  Supermarket Type2                    2127.23  \n",
       "4                 Cluster 2  Supermarket Type1                    2481.77  "
      ]
     },
     "execution_count": 9,
     "metadata": {},
     "output_type": "execute_result"
    }
   ],
   "source": [
    "super1 = super.drop(['Product_Identifier', 'Supermarket_Identifier','Product_Supermarket_Identifier' ], axis=1)\n",
    "super1.head()"
   ]
  },
  {
   "cell_type": "code",
   "execution_count": 10,
   "metadata": {},
   "outputs": [
    {
     "name": "stdout",
     "output_type": "stream",
     "text": [
      "<class 'pandas.core.frame.DataFrame'>\n",
      "RangeIndex: 4990 entries, 0 to 4989\n",
      "Data columns (total 10 columns):\n",
      "Product_Weight               4188 non-null float64\n",
      "Product_Fat_Content          4990 non-null object\n",
      "Product_Shelf_Visibility     4990 non-null float64\n",
      "Product_Type                 4990 non-null object\n",
      "Product_Price                4990 non-null float64\n",
      "Supermarket_Opening_Year     4990 non-null int64\n",
      "Supermarket_Size             3540 non-null object\n",
      "Supermarket_Location_Type    4990 non-null object\n",
      "Supermarket_Type             4990 non-null object\n",
      "Product_Supermarket_Sales    4990 non-null float64\n",
      "dtypes: float64(4), int64(1), object(5)\n",
      "memory usage: 389.9+ KB\n"
     ]
    }
   ],
   "source": [
    "super1.info()  # so here i am working with 10 columns, after removing the 3 useless ones"
   ]
  },
  {
   "cell_type": "code",
   "execution_count": 11,
   "metadata": {},
   "outputs": [
    {
     "data": {
      "text/plain": [
       "Product_Supermarket_Sales    1.000000\n",
       "Product_Price                0.518285\n",
       "Supermarket_Opening_Year     0.051297\n",
       "Product_Weight               0.015322\n",
       "Product_Shelf_Visibility    -0.164943\n",
       "Name: Product_Supermarket_Sales, dtype: float64"
      ]
     },
     "execution_count": 11,
     "metadata": {},
     "output_type": "execute_result"
    }
   ],
   "source": [
    "super1_corr = super1.corr()    # checking how the numerical columns are corr to the label\n",
    "super1_corr.Product_Supermarket_Sales.sort_values(ascending=False)  #basically i am treating the numerical columns first"
   ]
  },
  {
   "cell_type": "code",
   "execution_count": 67,
   "metadata": {},
   "outputs": [
    {
     "data": {
      "text/plain": [
       "<matplotlib.axes._subplots.AxesSubplot at 0x41132cd128>"
      ]
     },
     "execution_count": 67,
     "metadata": {},
     "output_type": "execute_result"
    },
    {
     "data": {
      "image/png": "[encoded data removed]",
      "text/plain": [
       "<matplotlib.figure.Figure at 0x411321d748>"
      ]
     },
     "metadata": {},
     "output_type": "display_data"
    }
   ],
   "source": [
    "#  generating a heatmap\n",
    "import matplotlib.pyplot as plt\n",
    "import seaborn as sns\n",
    "color = sns.color_palette()\n",
    "sns.set_style('darkgrid')\n",
    "\n",
    "heatmap = super1.corr()\n",
    "plt.subplots(figsize=(8,6))\n",
    "sns.heatmap(heatmap, center=0, annot=True, linewidth=.3)"
   ]
  },
  {
   "cell_type": "code",
   "execution_count": 13,
   "metadata": {},
   "outputs": [],
   "source": [
    "#super.isnull().sum()\n",
    "\n",
    "# lemme create a pairplot for rhe dataset, ill drop the missing values for thia to work\n",
    "# on a second thought NO. its for visualisations. i am too excited to do that. maybe later"
   ]
  },
  {
   "cell_type": "code",
   "execution_count": 14,
   "metadata": {},
   "outputs": [
    {
     "data": {
      "image/png": "[encoded data removed]",
      "text/plain": [
       "<matplotlib.figure.Figure at 0x411437e390>"
      ]
     },
     "metadata": {},
     "output_type": "display_data"
    }
   ],
   "source": [
    "# instead i would visualise the whole datasat distribution in a histogram. \n",
    "\n",
    "# when i say the whole dataset here i mean all the numerical values in the dataset\n",
    "super_vis = super1.hist(bins=50, figsize=(20, 15), color='maroon')\n",
    "\n",
    "# done. now this is looking interesting lemme take some notes"
   ]
  },
  {
   "cell_type": "code",
   "execution_count": 15,
   "metadata": {},
   "outputs": [
    {
     "data": {
      "image/png": "[encoded data removed]",
      "text/plain": [
       "<matplotlib.figure.Figure at 0x41170e4cf8>"
      ]
     },
     "metadata": {},
     "output_type": "display_data"
    }
   ],
   "source": [
    "#  building a distplot for all the numerical datasets or for the categorical just because i feel like oo\n",
    "sns.distplot(super1.Product_Supermarket_Sales, color='maroon')\n",
    "plt.show()"
   ]
  },
  {
   "cell_type": "code",
   "execution_count": 16,
   "metadata": {},
   "outputs": [
    {
     "data": {
      "image/png": "[encoded data removed]",
      "text/plain": [
       "<matplotlib.figure.Figure at 0x41173a59e8>"
      ]
     },
     "metadata": {},
     "output_type": "display_data"
    }
   ],
   "source": [
    "#  since i couldnt get the separate test dataset. i wud have to split this into train and test. using and experimenting\n",
    "# the stratified sampling i made a tutorial for.. LEGGO!!\n",
    "\n",
    "\n",
    "\n",
    "# no time to waste the most correlated column to the target is product_price so i would visualise that now and \n",
    "#then stratify the dataset with respect to that\n",
    "\n",
    "sns.distplot(super1.Product_Price, color='k', hist=True)\n",
    "plt.show()\n",
    "\n",
    "# done so the distro is even kind of normal sef. i'll just go ahead and stratify WRT this"
   ]
  },
  {
   "cell_type": "code",
   "execution_count": 17,
   "metadata": {},
   "outputs": [
    {
     "data": {
      "text/plain": [
       "2.0      156\n",
       "3.0      111\n",
       "4.0      416\n",
       "5.0      879\n",
       "6.0     1050\n",
       "7.0     1155\n",
       "8.0      603\n",
       "9.0      350\n",
       "10.0     269\n",
       "11.0       1\n",
       "Name: product_price_cat, dtype: int64"
      ]
     },
     "execution_count": 17,
     "metadata": {},
     "output_type": "execute_result"
    }
   ],
   "source": [
    "# so here i am deviding the product price column by 66.7 devided the max by 10 to reduce the class. normally\n",
    "# there shouldnt be too many classes. and map the values ro a new column called product_price_cat\n",
    "\n",
    "super1['product_price_cat'] = np.ceil(super.Product_Price / 66.7)\n",
    "super1['product_price_cat'].value_counts().sort_index()\n",
    "\n",
    "# so now we can see the distribution among the classes is not even, so i would map 2,3, and 4 to 5. \n",
    "# and also map 11, 10, and 9 to 8"
   ]
  },
  {
   "cell_type": "code",
   "execution_count": 18,
   "metadata": {},
   "outputs": [
    {
     "data": {
      "text/plain": [
       "2.0     156\n",
       "3.0     111\n",
       "4.0     416\n",
       "5.0     879\n",
       "6.0    1050\n",
       "7.0    1155\n",
       "8.0    1223\n",
       "Name: product_price_cat, dtype: int64"
      ]
     },
     "execution_count": 18,
     "metadata": {},
     "output_type": "execute_result"
    }
   ],
   "source": [
    "# map those above 8 as 8. i am doing this so each class would habe near distro of numbers\n",
    "super1['product_price_cat'].where(super1['product_price_cat'] < 8, 8.0, inplace=True)\n",
    "super1['product_price_cat'].value_counts().sort_index()"
   ]
  },
  {
   "cell_type": "code",
   "execution_count": 19,
   "metadata": {},
   "outputs": [
    {
     "data": {
      "text/plain": [
       "5.0    1562\n",
       "6.0    1050\n",
       "7.0    1155\n",
       "8.0    1223\n",
       "Name: product_price_cat, dtype: int64"
      ]
     },
     "execution_count": 19,
     "metadata": {},
     "output_type": "execute_result"
    }
   ],
   "source": [
    "# next up, map those below 5 as 5. i am doing this so each class would habe near distro of numbers\n",
    "super1['product_price_cat'].where(super1['product_price_cat'] > 5, 5.0, inplace=True)\n",
    "super1['product_price_cat'].value_counts().sort_index()\n",
    "# DONE!!"
   ]
  },
  {
   "cell_type": "code",
   "execution_count": 20,
   "metadata": {},
   "outputs": [
    {
     "data": {
      "text/html": [
       "<div>\n",
       "<style scoped>\n",
       "    .dataframe tbody tr th:only-of-type {\n",
       "        vertical-align: middle;\n",
       "    }\n",
       "\n",
       "    .dataframe tbody tr th {\n",
       "        vertical-align: top;\n",
       "    }\n",
       "\n",
       "    .dataframe thead th {\n",
       "        text-align: right;\n",
       "    }\n",
       "</style>\n",
       "<table border=\"1\" class=\"dataframe\">\n",
       "  <thead>\n",
       "    <tr style=\"text-align: right;\">\n",
       "      <th></th>\n",
       "      <th>Product_Weight</th>\n",
       "      <th>Product_Fat_Content</th>\n",
       "      <th>Product_Shelf_Visibility</th>\n",
       "      <th>Product_Type</th>\n",
       "      <th>Product_Price</th>\n",
       "      <th>Supermarket_Opening_Year</th>\n",
       "      <th>Supermarket_Size</th>\n",
       "      <th>Supermarket_Location_Type</th>\n",
       "      <th>Supermarket_Type</th>\n",
       "      <th>Product_Supermarket_Sales</th>\n",
       "      <th>product_price_cat</th>\n",
       "    </tr>\n",
       "  </thead>\n",
       "  <tbody>\n",
       "    <tr>\n",
       "      <th>2929</th>\n",
       "      <td>7.59</td>\n",
       "      <td>Normal Fat</td>\n",
       "      <td>0.145266</td>\n",
       "      <td>Fruits and Vegetables</td>\n",
       "      <td>432.27</td>\n",
       "      <td>2006</td>\n",
       "      <td>Medium</td>\n",
       "      <td>Cluster 1</td>\n",
       "      <td>Supermarket Type1</td>\n",
       "      <td>15579.72</td>\n",
       "      <td>7.0</td>\n",
       "    </tr>\n",
       "    <tr>\n",
       "      <th>269</th>\n",
       "      <td>15.85</td>\n",
       "      <td>Low Fat</td>\n",
       "      <td>0.180097</td>\n",
       "      <td>Soft Drinks</td>\n",
       "      <td>143.48</td>\n",
       "      <td>2005</td>\n",
       "      <td>NaN</td>\n",
       "      <td>Cluster 3</td>\n",
       "      <td>Grocery Store</td>\n",
       "      <td>292.95</td>\n",
       "      <td>5.0</td>\n",
       "    </tr>\n",
       "    <tr>\n",
       "      <th>1116</th>\n",
       "      <td>15.50</td>\n",
       "      <td>Normal Fat</td>\n",
       "      <td>0.157247</td>\n",
       "      <td>Snack Foods</td>\n",
       "      <td>364.10</td>\n",
       "      <td>2009</td>\n",
       "      <td>NaN</td>\n",
       "      <td>Cluster 2</td>\n",
       "      <td>Supermarket Type1</td>\n",
       "      <td>5517.82</td>\n",
       "      <td>6.0</td>\n",
       "    </tr>\n",
       "    <tr>\n",
       "      <th>1703</th>\n",
       "      <td>19.35</td>\n",
       "      <td>Normal Fat</td>\n",
       "      <td>0.062655</td>\n",
       "      <td>Baking Goods</td>\n",
       "      <td>408.30</td>\n",
       "      <td>2009</td>\n",
       "      <td>NaN</td>\n",
       "      <td>Cluster 2</td>\n",
       "      <td>Supermarket Type1</td>\n",
       "      <td>6604.74</td>\n",
       "      <td>7.0</td>\n",
       "    </tr>\n",
       "    <tr>\n",
       "      <th>4933</th>\n",
       "      <td>18.20</td>\n",
       "      <td>Low Fat</td>\n",
       "      <td>0.162960</td>\n",
       "      <td>Health and Hygiene</td>\n",
       "      <td>108.77</td>\n",
       "      <td>1994</td>\n",
       "      <td>High</td>\n",
       "      <td>Cluster 3</td>\n",
       "      <td>Supermarket Type1</td>\n",
       "      <td>2676.52</td>\n",
       "      <td>5.0</td>\n",
       "    </tr>\n",
       "  </tbody>\n",
       "</table>\n",
       "</div>"
      ],
      "text/plain": [
       "      Product_Weight Product_Fat_Content  Product_Shelf_Visibility  \\\n",
       "2929            7.59          Normal Fat                  0.145266   \n",
       "269            15.85             Low Fat                  0.180097   \n",
       "1116           15.50          Normal Fat                  0.157247   \n",
       "1703           19.35          Normal Fat                  0.062655   \n",
       "4933           18.20             Low Fat                  0.162960   \n",
       "\n",
       "               Product_Type  Product_Price  Supermarket_Opening_Year  \\\n",
       "2929  Fruits and Vegetables         432.27                      2006   \n",
       "269             Soft Drinks         143.48                      2005   \n",
       "1116            Snack Foods         364.10                      2009   \n",
       "1703           Baking Goods         408.30                      2009   \n",
       "4933     Health and Hygiene         108.77                      1994   \n",
       "\n",
       "     Supermarket_Size Supermarket_Location_Type   Supermarket_Type  \\\n",
       "2929           Medium                 Cluster 1  Supermarket Type1   \n",
       "269               NaN                 Cluster 3      Grocery Store   \n",
       "1116              NaN                 Cluster 2  Supermarket Type1   \n",
       "1703              NaN                 Cluster 2  Supermarket Type1   \n",
       "4933             High                 Cluster 3  Supermarket Type1   \n",
       "\n",
       "      Product_Supermarket_Sales  product_price_cat  \n",
       "2929                   15579.72                7.0  \n",
       "269                      292.95                5.0  \n",
       "1116                    5517.82                6.0  \n",
       "1703                    6604.74                7.0  \n",
       "4933                    2676.52                5.0  "
      ]
     },
     "execution_count": 20,
     "metadata": {},
     "output_type": "execute_result"
    }
   ],
   "source": [
    "# now its time for the main the main! :-)\n",
    "\n",
    "from sklearn.model_selection import StratifiedShuffleSplit\n",
    "\n",
    "split = StratifiedShuffleSplit(n_splits=1, test_size=0.2, random_state=21)\n",
    "for train_index, test_index in split.split(super1, super1['product_price_cat']):\n",
    "    strat_train_set = super1.loc[train_index]\n",
    "    strat_test_set = super1.loc[test_index]\n",
    "    \n",
    "strat_test_set.head()# so i am sure of a low bias testset now.. with about 1000 samples.. phew!!"
   ]
  },
  {
   "cell_type": "code",
   "execution_count": 21,
   "metadata": {},
   "outputs": [
    {
     "data": {
      "text/html": [
       "<div>\n",
       "<style scoped>\n",
       "    .dataframe tbody tr th:only-of-type {\n",
       "        vertical-align: middle;\n",
       "    }\n",
       "\n",
       "    .dataframe tbody tr th {\n",
       "        vertical-align: top;\n",
       "    }\n",
       "\n",
       "    .dataframe thead th {\n",
       "        text-align: right;\n",
       "    }\n",
       "</style>\n",
       "<table border=\"1\" class=\"dataframe\">\n",
       "  <thead>\n",
       "    <tr style=\"text-align: right;\">\n",
       "      <th></th>\n",
       "      <th>Overall</th>\n",
       "      <th>Random</th>\n",
       "      <th>Stratified</th>\n",
       "      <th>Rand. %error</th>\n",
       "      <th>Strat. %error</th>\n",
       "    </tr>\n",
       "  </thead>\n",
       "  <tbody>\n",
       "    <tr>\n",
       "      <th>5.0</th>\n",
       "      <td>0.313026</td>\n",
       "      <td>0.306613</td>\n",
       "      <td>0.312625</td>\n",
       "      <td>-2.048656</td>\n",
       "      <td>-0.128041</td>\n",
       "    </tr>\n",
       "    <tr>\n",
       "      <th>6.0</th>\n",
       "      <td>0.210421</td>\n",
       "      <td>0.206413</td>\n",
       "      <td>0.210421</td>\n",
       "      <td>-1.904762</td>\n",
       "      <td>0.000000</td>\n",
       "    </tr>\n",
       "    <tr>\n",
       "      <th>7.0</th>\n",
       "      <td>0.231463</td>\n",
       "      <td>0.237475</td>\n",
       "      <td>0.231463</td>\n",
       "      <td>2.597403</td>\n",
       "      <td>0.000000</td>\n",
       "    </tr>\n",
       "    <tr>\n",
       "      <th>8.0</th>\n",
       "      <td>0.245090</td>\n",
       "      <td>0.249499</td>\n",
       "      <td>0.245491</td>\n",
       "      <td>1.798855</td>\n",
       "      <td>0.163532</td>\n",
       "    </tr>\n",
       "  </tbody>\n",
       "</table>\n",
       "</div>"
      ],
      "text/plain": [
       "      Overall    Random  Stratified  Rand. %error  Strat. %error\n",
       "5.0  0.313026  0.306613    0.312625     -2.048656      -0.128041\n",
       "6.0  0.210421  0.206413    0.210421     -1.904762       0.000000\n",
       "7.0  0.231463  0.237475    0.231463      2.597403       0.000000\n",
       "8.0  0.245090  0.249499    0.245491      1.798855       0.163532"
      ]
     },
     "execution_count": 21,
     "metadata": {},
     "output_type": "execute_result"
    }
   ],
   "source": [
    "from sklearn.model_selection import  train_test_split\n",
    "def product_price_props(data):\n",
    "    return data['product_price_cat'].value_counts() / len(data)\n",
    "\n",
    "# initialising the random sampling with train_test_split\n",
    "trainset, testset = train_test_split(super1, test_size=0.2, random_state=21)\n",
    "\n",
    "# creating a new df that compares the original supermarket, to the random and stratified ones\n",
    "compare = pd.DataFrame({\n",
    "    'Overall': product_price_props(super1),\n",
    "    'Stratified' : product_price_props(strat_test_set),\n",
    "    'Random' : product_price_props(testset)\n",
    "}).sort_index()\n",
    "\n",
    "compare[\"Rand. %error\"] = 100 * compare[\"Random\"] / compare[\"Overall\"] - 100\n",
    "compare[\"Strat. %error\"] = 100 * compare[\"Stratified\"] / compare[\"Overall\"] - 100\n",
    "compare\n",
    "\n",
    "# done! ...so on two occasions  the strat error was 0.000000 thats how low-bias our dataset is."
   ]
  },
  {
   "cell_type": "code",
   "execution_count": 22,
   "metadata": {},
   "outputs": [
    {
     "data": {
      "text/html": [
       "<div>\n",
       "<style scoped>\n",
       "    .dataframe tbody tr th:only-of-type {\n",
       "        vertical-align: middle;\n",
       "    }\n",
       "\n",
       "    .dataframe tbody tr th {\n",
       "        vertical-align: top;\n",
       "    }\n",
       "\n",
       "    .dataframe thead th {\n",
       "        text-align: right;\n",
       "    }\n",
       "</style>\n",
       "<table border=\"1\" class=\"dataframe\">\n",
       "  <thead>\n",
       "    <tr style=\"text-align: right;\">\n",
       "      <th></th>\n",
       "      <th>Product_Weight</th>\n",
       "      <th>Product_Fat_Content</th>\n",
       "      <th>Product_Shelf_Visibility</th>\n",
       "      <th>Product_Type</th>\n",
       "      <th>Product_Price</th>\n",
       "      <th>Supermarket_Opening_Year</th>\n",
       "      <th>Supermarket_Size</th>\n",
       "      <th>Supermarket_Location_Type</th>\n",
       "      <th>Supermarket_Type</th>\n",
       "      <th>Product_Supermarket_Sales</th>\n",
       "    </tr>\n",
       "  </thead>\n",
       "  <tbody>\n",
       "    <tr>\n",
       "      <th>168</th>\n",
       "      <td>14.800</td>\n",
       "      <td>Low Fat</td>\n",
       "      <td>0.044841</td>\n",
       "      <td>Soft Drinks</td>\n",
       "      <td>195.92</td>\n",
       "      <td>1994</td>\n",
       "      <td>High</td>\n",
       "      <td>Cluster 3</td>\n",
       "      <td>Supermarket Type1</td>\n",
       "      <td>2297.01</td>\n",
       "    </tr>\n",
       "    <tr>\n",
       "      <th>2139</th>\n",
       "      <td>NaN</td>\n",
       "      <td>Normal Fat</td>\n",
       "      <td>0.187443</td>\n",
       "      <td>Fruits and Vegetables</td>\n",
       "      <td>364.70</td>\n",
       "      <td>1992</td>\n",
       "      <td>Small</td>\n",
       "      <td>Cluster 1</td>\n",
       "      <td>Grocery Store</td>\n",
       "      <td>722.39</td>\n",
       "    </tr>\n",
       "    <tr>\n",
       "      <th>2705</th>\n",
       "      <td>5.675</td>\n",
       "      <td>Normal Fat</td>\n",
       "      <td>0.023493</td>\n",
       "      <td>Snack Foods</td>\n",
       "      <td>388.82</td>\n",
       "      <td>2011</td>\n",
       "      <td>Small</td>\n",
       "      <td>Cluster 2</td>\n",
       "      <td>Supermarket Type1</td>\n",
       "      <td>3535.40</td>\n",
       "    </tr>\n",
       "    <tr>\n",
       "      <th>1461</th>\n",
       "      <td>10.895</td>\n",
       "      <td>Low Fat</td>\n",
       "      <td>0.035803</td>\n",
       "      <td>Fruits and Vegetables</td>\n",
       "      <td>325.82</td>\n",
       "      <td>2006</td>\n",
       "      <td>Medium</td>\n",
       "      <td>Cluster 1</td>\n",
       "      <td>Supermarket Type1</td>\n",
       "      <td>6261.85</td>\n",
       "    </tr>\n",
       "    <tr>\n",
       "      <th>4589</th>\n",
       "      <td>19.600</td>\n",
       "      <td>Low Fat</td>\n",
       "      <td>0.025287</td>\n",
       "      <td>Health and Hygiene</td>\n",
       "      <td>379.51</td>\n",
       "      <td>2004</td>\n",
       "      <td>Small</td>\n",
       "      <td>Cluster 1</td>\n",
       "      <td>Supermarket Type1</td>\n",
       "      <td>3415.55</td>\n",
       "    </tr>\n",
       "  </tbody>\n",
       "</table>\n",
       "</div>"
      ],
      "text/plain": [
       "      Product_Weight Product_Fat_Content  Product_Shelf_Visibility  \\\n",
       "168           14.800             Low Fat                  0.044841   \n",
       "2139             NaN          Normal Fat                  0.187443   \n",
       "2705           5.675          Normal Fat                  0.023493   \n",
       "1461          10.895             Low Fat                  0.035803   \n",
       "4589          19.600             Low Fat                  0.025287   \n",
       "\n",
       "               Product_Type  Product_Price  Supermarket_Opening_Year  \\\n",
       "168             Soft Drinks         195.92                      1994   \n",
       "2139  Fruits and Vegetables         364.70                      1992   \n",
       "2705            Snack Foods         388.82                      2011   \n",
       "1461  Fruits and Vegetables         325.82                      2006   \n",
       "4589     Health and Hygiene         379.51                      2004   \n",
       "\n",
       "     Supermarket_Size Supermarket_Location_Type   Supermarket_Type  \\\n",
       "168              High                 Cluster 3  Supermarket Type1   \n",
       "2139            Small                 Cluster 1      Grocery Store   \n",
       "2705            Small                 Cluster 2  Supermarket Type1   \n",
       "1461           Medium                 Cluster 1  Supermarket Type1   \n",
       "4589            Small                 Cluster 1  Supermarket Type1   \n",
       "\n",
       "      Product_Supermarket_Sales  \n",
       "168                     2297.01  \n",
       "2139                     722.39  \n",
       "2705                    3535.40  \n",
       "1461                    6261.85  \n",
       "4589                    3415.55  "
      ]
     },
     "execution_count": 22,
     "metadata": {},
     "output_type": "execute_result"
    }
   ],
   "source": [
    "# so now lets continue torturing the dataset to make it speak\n",
    "\n",
    "# lets drop the product_price_cat column\n",
    "for set in (strat_train_set, strat_test_set):\n",
    "    set.drop('product_price_cat', axis=1, inplace=True)\n",
    "    \n",
    "strat_train_set.head()   # showing that the unwanted column has been removed"
   ]
  },
  {
   "cell_type": "code",
   "execution_count": 23,
   "metadata": {
    "scrolled": false
   },
   "outputs": [
    {
     "data": {
      "text/html": [
       "<div>\n",
       "<style scoped>\n",
       "    .dataframe tbody tr th:only-of-type {\n",
       "        vertical-align: middle;\n",
       "    }\n",
       "\n",
       "    .dataframe tbody tr th {\n",
       "        vertical-align: top;\n",
       "    }\n",
       "\n",
       "    .dataframe thead th {\n",
       "        text-align: right;\n",
       "    }\n",
       "</style>\n",
       "<table border=\"1\" class=\"dataframe\">\n",
       "  <thead>\n",
       "    <tr style=\"text-align: right;\">\n",
       "      <th></th>\n",
       "      <th>Product_Weight</th>\n",
       "      <th>Product_Fat_Content</th>\n",
       "      <th>Product_Shelf_Visibility</th>\n",
       "      <th>Product_Type</th>\n",
       "      <th>Product_Price</th>\n",
       "      <th>Supermarket_Opening_Year</th>\n",
       "      <th>Supermarket_Size</th>\n",
       "      <th>Supermarket_Location_Type</th>\n",
       "      <th>Supermarket_Type</th>\n",
       "      <th>Product_Supermarket_Sales</th>\n",
       "    </tr>\n",
       "  </thead>\n",
       "  <tbody>\n",
       "    <tr>\n",
       "      <th>168</th>\n",
       "      <td>14.800</td>\n",
       "      <td>Low Fat</td>\n",
       "      <td>0.044841</td>\n",
       "      <td>Soft Drinks</td>\n",
       "      <td>195.92</td>\n",
       "      <td>1994</td>\n",
       "      <td>High</td>\n",
       "      <td>Cluster 3</td>\n",
       "      <td>Supermarket Type1</td>\n",
       "      <td>2297.01</td>\n",
       "    </tr>\n",
       "    <tr>\n",
       "      <th>2139</th>\n",
       "      <td>NaN</td>\n",
       "      <td>Normal Fat</td>\n",
       "      <td>0.187443</td>\n",
       "      <td>Fruits and Vegetables</td>\n",
       "      <td>364.70</td>\n",
       "      <td>1992</td>\n",
       "      <td>Small</td>\n",
       "      <td>Cluster 1</td>\n",
       "      <td>Grocery Store</td>\n",
       "      <td>722.39</td>\n",
       "    </tr>\n",
       "    <tr>\n",
       "      <th>2705</th>\n",
       "      <td>5.675</td>\n",
       "      <td>Normal Fat</td>\n",
       "      <td>0.023493</td>\n",
       "      <td>Snack Foods</td>\n",
       "      <td>388.82</td>\n",
       "      <td>2011</td>\n",
       "      <td>Small</td>\n",
       "      <td>Cluster 2</td>\n",
       "      <td>Supermarket Type1</td>\n",
       "      <td>3535.40</td>\n",
       "    </tr>\n",
       "    <tr>\n",
       "      <th>1461</th>\n",
       "      <td>10.895</td>\n",
       "      <td>Low Fat</td>\n",
       "      <td>0.035803</td>\n",
       "      <td>Fruits and Vegetables</td>\n",
       "      <td>325.82</td>\n",
       "      <td>2006</td>\n",
       "      <td>Medium</td>\n",
       "      <td>Cluster 1</td>\n",
       "      <td>Supermarket Type1</td>\n",
       "      <td>6261.85</td>\n",
       "    </tr>\n",
       "    <tr>\n",
       "      <th>4589</th>\n",
       "      <td>19.600</td>\n",
       "      <td>Low Fat</td>\n",
       "      <td>0.025287</td>\n",
       "      <td>Health and Hygiene</td>\n",
       "      <td>379.51</td>\n",
       "      <td>2004</td>\n",
       "      <td>Small</td>\n",
       "      <td>Cluster 1</td>\n",
       "      <td>Supermarket Type1</td>\n",
       "      <td>3415.55</td>\n",
       "    </tr>\n",
       "  </tbody>\n",
       "</table>\n",
       "</div>"
      ],
      "text/plain": [
       "      Product_Weight Product_Fat_Content  Product_Shelf_Visibility  \\\n",
       "168           14.800             Low Fat                  0.044841   \n",
       "2139             NaN          Normal Fat                  0.187443   \n",
       "2705           5.675          Normal Fat                  0.023493   \n",
       "1461          10.895             Low Fat                  0.035803   \n",
       "4589          19.600             Low Fat                  0.025287   \n",
       "\n",
       "               Product_Type  Product_Price  Supermarket_Opening_Year  \\\n",
       "168             Soft Drinks         195.92                      1994   \n",
       "2139  Fruits and Vegetables         364.70                      1992   \n",
       "2705            Snack Foods         388.82                      2011   \n",
       "1461  Fruits and Vegetables         325.82                      2006   \n",
       "4589     Health and Hygiene         379.51                      2004   \n",
       "\n",
       "     Supermarket_Size Supermarket_Location_Type   Supermarket_Type  \\\n",
       "168              High                 Cluster 3  Supermarket Type1   \n",
       "2139            Small                 Cluster 1      Grocery Store   \n",
       "2705            Small                 Cluster 2  Supermarket Type1   \n",
       "1461           Medium                 Cluster 1  Supermarket Type1   \n",
       "4589            Small                 Cluster 1  Supermarket Type1   \n",
       "\n",
       "      Product_Supermarket_Sales  \n",
       "168                     2297.01  \n",
       "2139                     722.39  \n",
       "2705                    3535.40  \n",
       "1461                    6261.85  \n",
       "4589                    3415.55  "
      ]
     },
     "execution_count": 23,
     "metadata": {},
     "output_type": "execute_result"
    }
   ],
   "source": [
    "new_super = strat_train_set\n",
    "new_super.head()"
   ]
  },
  {
   "cell_type": "code",
   "execution_count": 24,
   "metadata": {},
   "outputs": [
    {
     "data": {
      "text/plain": [
       "Index(['Product_Weight', 'Product_Fat_Content', 'Product_Shelf_Visibility',\n",
       "       'Product_Type', 'Product_Price', 'Supermarket_Opening_Year',\n",
       "       'Supermarket_Size', 'Supermarket_Location_Type', 'Supermarket_Type',\n",
       "       'Product_Supermarket_Sales'],\n",
       "      dtype='object')"
      ]
     },
     "execution_count": 24,
     "metadata": {},
     "output_type": "execute_result"
    }
   ],
   "source": [
    "new_super.columns"
   ]
  },
  {
   "cell_type": "code",
   "execution_count": 25,
   "metadata": {},
   "outputs": [],
   "source": [
    "# just another visualisation\n",
    "\n",
    "# new_super.plot(kind='scatter', x= 'Product_Supermarket_Sales', y= 'Product_Price', alpha=.3) "
   ]
  },
  {
   "cell_type": "code",
   "execution_count": 26,
   "metadata": {},
   "outputs": [
    {
     "data": {
      "image/png": "[encoded data removed]",
      "text/plain": [
       "<matplotlib.figure.Figure at 0x4116faa438>"
      ]
     },
     "metadata": {},
     "output_type": "display_data"
    }
   ],
   "source": [
    "import seaborn as sns      # explore the possiillities of using this countplots for visualising categoricsl columns\n",
    "cat = sns.countplot(x ='Supermarket_Size', data = new_super)"
   ]
  },
  {
   "cell_type": "code",
   "execution_count": 27,
   "metadata": {},
   "outputs": [],
   "source": [
    "#  SO I AM DONE WITH EDA TIME TO PREPROCESS THE DATASET, and i will start by segregating the features and label\n",
    "\n",
    "super_new = new_super.drop('Product_Supermarket_Sales', axis=1)  # features\n",
    "super_label =new_super['Product_Supermarket_Sales'].copy()"
   ]
  },
  {
   "cell_type": "code",
   "execution_count": 28,
   "metadata": {},
   "outputs": [
    {
     "data": {
      "text/html": [
       "<div>\n",
       "<style scoped>\n",
       "    .dataframe tbody tr th:only-of-type {\n",
       "        vertical-align: middle;\n",
       "    }\n",
       "\n",
       "    .dataframe tbody tr th {\n",
       "        vertical-align: top;\n",
       "    }\n",
       "\n",
       "    .dataframe thead th {\n",
       "        text-align: right;\n",
       "    }\n",
       "</style>\n",
       "<table border=\"1\" class=\"dataframe\">\n",
       "  <thead>\n",
       "    <tr style=\"text-align: right;\">\n",
       "      <th></th>\n",
       "      <th>Product_Weight</th>\n",
       "      <th>Product_Shelf_Visibility</th>\n",
       "      <th>Product_Price</th>\n",
       "      <th>Supermarket_Opening_Year</th>\n",
       "    </tr>\n",
       "  </thead>\n",
       "  <tbody>\n",
       "    <tr>\n",
       "      <th>count</th>\n",
       "      <td>3328.000000</td>\n",
       "      <td>3992.000000</td>\n",
       "      <td>3992.000000</td>\n",
       "      <td>3992.000000</td>\n",
       "    </tr>\n",
       "    <tr>\n",
       "      <th>mean</th>\n",
       "      <td>12.888244</td>\n",
       "      <td>0.066841</td>\n",
       "      <td>391.794464</td>\n",
       "      <td>2004.661072</td>\n",
       "    </tr>\n",
       "    <tr>\n",
       "      <th>std</th>\n",
       "      <td>4.706246</td>\n",
       "      <td>0.053281</td>\n",
       "      <td>119.673048</td>\n",
       "      <td>8.294933</td>\n",
       "    </tr>\n",
       "    <tr>\n",
       "      <th>min</th>\n",
       "      <td>4.555000</td>\n",
       "      <td>0.000000</td>\n",
       "      <td>79.890000</td>\n",
       "      <td>1992.000000</td>\n",
       "    </tr>\n",
       "    <tr>\n",
       "      <th>25%</th>\n",
       "      <td>8.630000</td>\n",
       "      <td>0.027289</td>\n",
       "      <td>308.017500</td>\n",
       "      <td>1994.000000</td>\n",
       "    </tr>\n",
       "    <tr>\n",
       "      <th>50%</th>\n",
       "      <td>12.650000</td>\n",
       "      <td>0.053498</td>\n",
       "      <td>393.820000</td>\n",
       "      <td>2006.000000</td>\n",
       "    </tr>\n",
       "    <tr>\n",
       "      <th>75%</th>\n",
       "      <td>17.100000</td>\n",
       "      <td>0.094626</td>\n",
       "      <td>464.932500</td>\n",
       "      <td>2011.000000</td>\n",
       "    </tr>\n",
       "    <tr>\n",
       "      <th>max</th>\n",
       "      <td>21.350000</td>\n",
       "      <td>0.328391</td>\n",
       "      <td>667.220000</td>\n",
       "      <td>2016.000000</td>\n",
       "    </tr>\n",
       "  </tbody>\n",
       "</table>\n",
       "</div>"
      ],
      "text/plain": [
       "       Product_Weight  Product_Shelf_Visibility  Product_Price  \\\n",
       "count     3328.000000               3992.000000    3992.000000   \n",
       "mean        12.888244                  0.066841     391.794464   \n",
       "std          4.706246                  0.053281     119.673048   \n",
       "min          4.555000                  0.000000      79.890000   \n",
       "25%          8.630000                  0.027289     308.017500   \n",
       "50%         12.650000                  0.053498     393.820000   \n",
       "75%         17.100000                  0.094626     464.932500   \n",
       "max         21.350000                  0.328391     667.220000   \n",
       "\n",
       "       Supermarket_Opening_Year  \n",
       "count               3992.000000  \n",
       "mean                2004.661072  \n",
       "std                    8.294933  \n",
       "min                 1992.000000  \n",
       "25%                 1994.000000  \n",
       "50%                 2006.000000  \n",
       "75%                 2011.000000  \n",
       "max                 2016.000000  "
      ]
     },
     "execution_count": 28,
     "metadata": {},
     "output_type": "execute_result"
    }
   ],
   "source": [
    "super_new.describe()"
   ]
  },
  {
   "cell_type": "code",
   "execution_count": 29,
   "metadata": {},
   "outputs": [
    {
     "name": "stdout",
     "output_type": "stream",
     "text": [
      "<class 'pandas.core.frame.DataFrame'>\n",
      "Int64Index: 3992 entries, 168 to 4798\n",
      "Data columns (total 9 columns):\n",
      "Product_Weight               3328 non-null float64\n",
      "Product_Fat_Content          3992 non-null object\n",
      "Product_Shelf_Visibility     3992 non-null float64\n",
      "Product_Type                 3992 non-null object\n",
      "Product_Price                3992 non-null float64\n",
      "Supermarket_Opening_Year     3992 non-null int64\n",
      "Supermarket_Size             2840 non-null object\n",
      "Supermarket_Location_Type    3992 non-null object\n",
      "Supermarket_Type             3992 non-null object\n",
      "dtypes: float64(3), int64(1), object(5)\n",
      "memory usage: 471.9+ KB\n"
     ]
    }
   ],
   "source": [
    "super_new.info()"
   ]
  },
  {
   "cell_type": "code",
   "execution_count": 30,
   "metadata": {},
   "outputs": [
    {
     "data": {
      "text/plain": [
       "Product_Weight                664\n",
       "Product_Fat_Content             0\n",
       "Product_Shelf_Visibility        0\n",
       "Product_Type                    0\n",
       "Product_Price                   0\n",
       "Supermarket_Opening_Year        0\n",
       "Supermarket_Size             1152\n",
       "Supermarket_Location_Type       0\n",
       "Supermarket_Type                0\n",
       "dtype: int64"
      ]
     },
     "execution_count": 30,
     "metadata": {},
     "output_type": "execute_result"
    }
   ],
   "source": [
    "super_new.isnull().sum() # only product weight and supermarket size have missing rows. one numeric and one categorical\n",
    "                         # well nothing spoil i am kuku working on numerical columns for now."
   ]
  },
  {
   "cell_type": "code",
   "execution_count": 31,
   "metadata": {},
   "outputs": [
    {
     "data": {
      "text/plain": [
       "Medium    1233\n",
       "Small     1136\n",
       "High       471\n",
       "Name: Supermarket_Size, dtype: int64"
      ]
     },
     "execution_count": 31,
     "metadata": {},
     "output_type": "execute_result"
    }
   ],
   "source": [
    "super_new.Supermarket_Size.value_counts()  # take note to one encode this first before imputer"
   ]
  },
  {
   "cell_type": "code",
   "execution_count": 32,
   "metadata": {},
   "outputs": [
    {
     "name": "stdout",
     "output_type": "stream",
     "text": [
      "<class 'pandas.core.frame.DataFrame'>\n",
      "Int64Index: 3992 entries, 168 to 4798\n",
      "Data columns (total 4 columns):\n",
      "Product_Weight              3328 non-null float64\n",
      "Product_Shelf_Visibility    3992 non-null float64\n",
      "Product_Price               3992 non-null float64\n",
      "Supermarket_Opening_Year    3992 non-null int64\n",
      "dtypes: float64(3), int64(1)\n",
      "memory usage: 315.9 KB\n"
     ]
    }
   ],
   "source": [
    "# call the imputer and use the median strategy\n",
    "\n",
    "from sklearn.preprocessing import Imputer\n",
    "imputer = Imputer(strategy='median')\n",
    "\n",
    "# time to separate men from boya. the imputer class only reads numerical. so i want to extract all four of them\n",
    "super_num = super_new.drop(['Product_Fat_Content', 'Product_Type', \n",
    "                            'Supermarket_Size', 'Supermarket_Location_Type', \n",
    "                            'Supermarket_Type'], axis=1)\n",
    "super_num.info()"
   ]
  },
  {
   "cell_type": "code",
   "execution_count": 33,
   "metadata": {},
   "outputs": [
    {
     "data": {
      "text/plain": [
       "Imputer(axis=0, copy=True, missing_values='NaN', strategy='median', verbose=0)"
      ]
     },
     "execution_count": 33,
     "metadata": {},
     "output_type": "execute_result"
    }
   ],
   "source": [
    "imputer.fit(super_num)"
   ]
  },
  {
   "cell_type": "code",
   "execution_count": 34,
   "metadata": {},
   "outputs": [
    {
     "data": {
      "text/plain": [
       "array([1.26500000e+01, 5.34981325e-02, 3.93820000e+02, 2.00600000e+03])"
      ]
     },
     "execution_count": 34,
     "metadata": {},
     "output_type": "execute_result"
    }
   ],
   "source": [
    "imputer.statistics_"
   ]
  },
  {
   "cell_type": "code",
   "execution_count": 35,
   "metadata": {},
   "outputs": [
    {
     "data": {
      "text/plain": [
       "array([[1.48000000e+01, 4.48409330e-02, 1.95920000e+02, 1.99400000e+03],\n",
       "       [1.26500000e+01, 1.87443314e-01, 3.64700000e+02, 1.99200000e+03],\n",
       "       [5.67500000e+00, 2.34925240e-02, 3.88820000e+02, 2.01100000e+03],\n",
       "       ...,\n",
       "       [1.26500000e+01, 4.87384070e-02, 3.82170000e+02, 1.99200000e+03],\n",
       "       [1.28500000e+01, 1.37441201e-01, 3.94160000e+02, 2.00600000e+03],\n",
       "       [1.26500000e+01, 2.53540720e-02, 3.61190000e+02, 1.99200000e+03]])"
      ]
     },
     "execution_count": 35,
     "metadata": {},
     "output_type": "execute_result"
    }
   ],
   "source": [
    "x = imputer.transform(super_num)  # output is a 2d array and needs to be converted to a df\n",
    "x"
   ]
  },
  {
   "cell_type": "code",
   "execution_count": 36,
   "metadata": {
    "scrolled": true
   },
   "outputs": [
    {
     "data": {
      "text/plain": [
       "Product_Weight              0\n",
       "Product_Shelf_Visibility    0\n",
       "Product_Price               0\n",
       "Supermarket_Opening_Year    0\n",
       "dtype: int64"
      ]
     },
     "execution_count": 36,
     "metadata": {},
     "output_type": "execute_result"
    }
   ],
   "source": [
    "super_num_tf = pd.DataFrame(x, columns=super_num.columns)\n",
    "super_num_tf.isnull().sum()  # transformed and dusted"
   ]
  },
  {
   "cell_type": "code",
   "execution_count": 37,
   "metadata": {},
   "outputs": [
    {
     "data": {
      "text/plain": [
       "Product_Fat_Content             0\n",
       "Product_Type                    0\n",
       "Supermarket_Size             1152\n",
       "Supermarket_Location_Type       0\n",
       "Supermarket_Type                0\n",
       "dtype: int64"
      ]
     },
     "execution_count": 37,
     "metadata": {},
     "output_type": "execute_result"
    }
   ],
   "source": [
    "# dealling with categorical attributes \n",
    "super_cat = super_new.drop(['Product_Weight', 'Product_Shelf_Visibility', \n",
    "                            'Product_Price', 'Supermarket_Opening_Year'], axis=1)\n",
    "\n",
    "super_cat.isnull().sum()   # so i can see that the supermarket size column has 1152 missing columns, my methodology is \n",
    "                           # to onehotenode all the categorical columns then i would use the imputer class to replace \n",
    "                            # with mean. "
   ]
  },
  {
   "cell_type": "code",
   "execution_count": 38,
   "metadata": {},
   "outputs": [
    {
     "data": {
      "text/plain": [
       "Medium    1233\n",
       "Small     1136\n",
       "High       471\n",
       "Name: Supermarket_Size, dtype: int64"
      ]
     },
     "execution_count": 38,
     "metadata": {},
     "output_type": "execute_result"
    }
   ],
   "source": [
    "super_cat.Supermarket_Size.value_counts()"
   ]
  },
  {
   "cell_type": "code",
   "execution_count": 39,
   "metadata": {},
   "outputs": [],
   "source": [
    "# time to visualise the categorical column using countplot\n",
    "# on a second thought NO!\n",
    "from sklearn.preprocessing import LabelEncoder\n",
    "#encoder = LabelEncoder()\n",
    "#super_cat_enc = encoder.fit_transform(super_cat)  so i tried this and found out that LabelEncoder does not work with\n",
    "                                                # multiple columns. Have to write a custom function"
   ]
  },
  {
   "cell_type": "code",
   "execution_count": 40,
   "metadata": {},
   "outputs": [],
   "source": [
    "#custom class to handle multiple categorical columns\n",
    "from sklearn.preprocessing import LabelEncoder\n",
    "class MultiEncoder:                   # class name\n",
    "    def __init__(self, columns=None):  # initialise with a constructor\n",
    "        self.columns = columns\n",
    "        \n",
    "    def fit(self, X, y=None):          # Function to fit the X columns of the dataset showing that its for attributes \n",
    "        return self                    # alone and y=None means the label is made silent\n",
    "\n",
    "    def transform(self, X):         # this is the function that does the main work of transforming\n",
    "        output = X.copy()    # so the class takes only column as argument and if dnt specify it would take all the columns\n",
    "        if self.columns is not None:   # if the column is not empty\n",
    "            for col in self.columns:    # for each column\n",
    "                output[col] = LabelEncoder().fit_transform(col)  # encode each column\n",
    "        else:                                                   #else\n",
    "            for colname, col in output.iteritems():             #basically encode whatever you give it\n",
    "                output[colname] = LabelEncoder().fit_transform(col)\n",
    "        return output                                             # bring out the output\n",
    "    \n",
    "    def fit_transform(self, X, y=None):                         # fit_transsform function takes only one attribute\n",
    "        return self.fit(X, y=None).transform(X)                  # return the final transformed label encoded\n",
    "    "
   ]
  },
  {
   "cell_type": "code",
   "execution_count": 41,
   "metadata": {},
   "outputs": [
    {
     "data": {
      "text/html": [
       "<div>\n",
       "<style scoped>\n",
       "    .dataframe tbody tr th:only-of-type {\n",
       "        vertical-align: middle;\n",
       "    }\n",
       "\n",
       "    .dataframe tbody tr th {\n",
       "        vertical-align: top;\n",
       "    }\n",
       "\n",
       "    .dataframe thead th {\n",
       "        text-align: right;\n",
       "    }\n",
       "</style>\n",
       "<table border=\"1\" class=\"dataframe\">\n",
       "  <thead>\n",
       "    <tr style=\"text-align: right;\">\n",
       "      <th></th>\n",
       "      <th>Product_Fat_Content</th>\n",
       "      <th>Product_Type</th>\n",
       "      <th>Supermarket_Size</th>\n",
       "      <th>Supermarket_Location_Type</th>\n",
       "      <th>Supermarket_Type</th>\n",
       "    </tr>\n",
       "  </thead>\n",
       "  <tbody>\n",
       "    <tr>\n",
       "      <th>168</th>\n",
       "      <td>0</td>\n",
       "      <td>14</td>\n",
       "      <td>0</td>\n",
       "      <td>2</td>\n",
       "      <td>1</td>\n",
       "    </tr>\n",
       "    <tr>\n",
       "      <th>2139</th>\n",
       "      <td>1</td>\n",
       "      <td>6</td>\n",
       "      <td>2</td>\n",
       "      <td>0</td>\n",
       "      <td>0</td>\n",
       "    </tr>\n",
       "    <tr>\n",
       "      <th>2705</th>\n",
       "      <td>1</td>\n",
       "      <td>13</td>\n",
       "      <td>2</td>\n",
       "      <td>1</td>\n",
       "      <td>1</td>\n",
       "    </tr>\n",
       "    <tr>\n",
       "      <th>1461</th>\n",
       "      <td>0</td>\n",
       "      <td>6</td>\n",
       "      <td>1</td>\n",
       "      <td>0</td>\n",
       "      <td>1</td>\n",
       "    </tr>\n",
       "    <tr>\n",
       "      <th>4589</th>\n",
       "      <td>0</td>\n",
       "      <td>8</td>\n",
       "      <td>2</td>\n",
       "      <td>0</td>\n",
       "      <td>1</td>\n",
       "    </tr>\n",
       "  </tbody>\n",
       "</table>\n",
       "</div>"
      ],
      "text/plain": [
       "      Product_Fat_Content  Product_Type  Supermarket_Size  \\\n",
       "168                     0            14                 0   \n",
       "2139                    1             6                 2   \n",
       "2705                    1            13                 2   \n",
       "1461                    0             6                 1   \n",
       "4589                    0             8                 2   \n",
       "\n",
       "      Supermarket_Location_Type  Supermarket_Type  \n",
       "168                           2                 1  \n",
       "2139                          0                 0  \n",
       "2705                          1                 1  \n",
       "1461                          0                 1  \n",
       "4589                          0                 1  "
      ]
     },
     "execution_count": 41,
     "metadata": {},
     "output_type": "execute_result"
    }
   ],
   "source": [
    "col_transformed = MultiEncoder().fit_transform(super_cat.astype(str))\n",
    "#super_cat.Product_Type.shape\n",
    "col_transformed.head()"
   ]
  },
  {
   "cell_type": "code",
   "execution_count": 42,
   "metadata": {},
   "outputs": [
    {
     "data": {
      "text/plain": [
       "1    1233\n",
       "3    1152\n",
       "2    1136\n",
       "0     471\n",
       "Name: Supermarket_Size, dtype: int64"
      ]
     },
     "execution_count": 42,
     "metadata": {},
     "output_type": "execute_result"
    }
   ],
   "source": [
    "col_transformed.Supermarket_Size.value_counts()"
   ]
  },
  {
   "cell_type": "code",
   "execution_count": 43,
   "metadata": {},
   "outputs": [
    {
     "data": {
      "text/plain": [
       "<matplotlib.axes._subplots.AxesSubplot at 0x41175dcbe0>"
      ]
     },
     "execution_count": 43,
     "metadata": {},
     "output_type": "execute_result"
    },
    {
     "data": {
      "image/png": "[encoded data removed]",
      "text/plain": [
       "<matplotlib.figure.Figure at 0x41170676a0>"
      ]
     },
     "metadata": {},
     "output_type": "display_data"
    }
   ],
   "source": [
    "col_transformed.Supermarket_Size.plot(kind='hist')  # come back and revert to this when fine tuning use this instead of the other"
   ]
  },
  {
   "cell_type": "code",
   "execution_count": 44,
   "metadata": {},
   "outputs": [
    {
     "data": {
      "text/plain": [
       "<matplotlib.axes._subplots.AxesSubplot at 0x4117117b38>"
      ]
     },
     "execution_count": 44,
     "metadata": {},
     "output_type": "execute_result"
    },
    {
     "data": {
      "image/png": "[encoded data removed]",
      "text/plain": [
       "<matplotlib.figure.Figure at 0x41175f3e10>"
      ]
     },
     "metadata": {},
     "output_type": "display_data"
    }
   ],
   "source": [
    "real_col_tr= col_transformed.replace(to_replace=3, value=2)\n",
    "real_col_tr.Supermarket_Size.plot(kind='hist')"
   ]
  },
  {
   "cell_type": "code",
   "execution_count": 45,
   "metadata": {},
   "outputs": [
    {
     "data": {
      "text/plain": [
       "array([[1., 0., 0., ..., 0., 1., 0.],\n",
       "       [0., 1., 0., ..., 1., 0., 0.],\n",
       "       [0., 1., 0., ..., 0., 1., 0.],\n",
       "       ...,\n",
       "       [0., 1., 0., ..., 0., 0., 1.],\n",
       "       [1., 0., 0., ..., 0., 1., 0.],\n",
       "       [1., 0., 0., ..., 0., 0., 1.]])"
      ]
     },
     "execution_count": 45,
     "metadata": {},
     "output_type": "execute_result"
    }
   ],
   "source": [
    "from sklearn.preprocessing import OneHotEncoder    #automatically labelencoder has solved the problem of missing data\n",
    "encoder = OneHotEncoder(sparse=False)\n",
    "super_1hot = encoder.fit_transform(real_col_tr)\n",
    "super_1hot"
   ]
  },
  {
   "cell_type": "code",
   "execution_count": 46,
   "metadata": {},
   "outputs": [],
   "source": [
    "# creating a pipeline for the operations but before that,\n",
    "# creating a dataframe selector\n",
    "\n",
    "from sklearn.base import BaseEstimator, TransformerMixin\n",
    "\n",
    "class DataFrameSelect(BaseEstimator, TransformerMixin):\n",
    "    def __init__(self, attrNames):\n",
    "        self.attrNames = attrNames\n",
    "    \n",
    "    def fit(self, X, y=None):\n",
    "        return self\n",
    "    \n",
    "    def transform(self, X, y=None):\n",
    "        return X[self.attrNames].values\n",
    "        \n",
    "    "
   ]
  },
  {
   "cell_type": "code",
   "execution_count": 47,
   "metadata": {},
   "outputs": [
    {
     "data": {
      "text/plain": [
       "['Product_Weight',\n",
       " 'Product_Shelf_Visibility',\n",
       " 'Product_Price',\n",
       " 'Supermarket_Opening_Year']"
      ]
     },
     "execution_count": 47,
     "metadata": {},
     "output_type": "execute_result"
    }
   ],
   "source": [
    "num_attr = list(super_num)\n",
    "cat_attr = list(super_cat)\n",
    "\n",
    "num_attr"
   ]
  },
  {
   "cell_type": "code",
   "execution_count": 48,
   "metadata": {},
   "outputs": [
    {
     "data": {
      "text/plain": [
       "(3992, 4)"
      ]
     },
     "execution_count": 48,
     "metadata": {},
     "output_type": "execute_result"
    }
   ],
   "source": [
    "from sklearn.pipeline import Pipeline\n",
    "from sklearn.preprocessing import StandardScaler\n",
    "# numerical pipeline all set and Kicking LIve!!!\n",
    "num_pipeline = Pipeline([\n",
    "    ('selector', DataFrameSelect(num_attr)),\n",
    "    ('imputer', Imputer(strategy='median')),\n",
    "    ('std_scalar', StandardScaler())]) \n",
    "\n",
    "super_num_tr = num_pipeline.fit_transform(super_num)\n",
    "super_num_tr.shape"
   ]
  },
  {
   "cell_type": "code",
   "execution_count": 49,
   "metadata": {},
   "outputs": [],
   "source": [
    "from sklearn.pipeline import Pipeline\n",
    "from sklearn.preprocessing import StandardScaler\n",
    "\n",
    "# Categorical columns up Next!\n",
    "cat_pipeline = Pipeline([\n",
    "    ('selector', DataFrameSelect(cat_attr)),\n",
    "    ('encoder', OneHotEncoder(sparse=False))\n",
    "])    # To be continued from here. unless they bring light till Night then. By God's grace.\n",
    "                              # I am so grateful to God for the Jobb opportunity at RETINA AI HEALTH INC\n",
    "\n",
    "cat_num_tr = cat_pipeline.fit_transform(real_col_tr)\n",
    "#cat_num_tr.shape   visualising the shape of the transformed categorical columns"
   ]
  },
  {
   "cell_type": "code",
   "execution_count": 50,
   "metadata": {},
   "outputs": [
    {
     "name": "stdout",
     "output_type": "stream",
     "text": [
      "<class 'pandas.core.frame.DataFrame'>\n",
      "Int64Index: 3992 entries, 168 to 4798\n",
      "Data columns (total 9 columns):\n",
      "Product_Weight               3328 non-null float64\n",
      "Product_Shelf_Visibility     3992 non-null float64\n",
      "Product_Price                3992 non-null float64\n",
      "Supermarket_Opening_Year     3992 non-null int64\n",
      "Product_Fat_Content          3992 non-null int64\n",
      "Product_Type                 3992 non-null int64\n",
      "Supermarket_Size             3992 non-null int64\n",
      "Supermarket_Location_Type    3992 non-null int64\n",
      "Supermarket_Type             3992 non-null int64\n",
      "dtypes: float64(3), int64(6)\n",
      "memory usage: 471.9 KB\n"
     ]
    }
   ],
   "source": [
    "# QUICK HEADS UP, the full_pipeline had to get an all integer column argument, so i had concatenate the super_num\n",
    "# and the already LabelEncoded super_cat which is either real_col_tr or col_transformed\n",
    "\n",
    "finals = pd.concat([super_num, real_col_tr], axis=1)\n",
    "finals.info()\n"
   ]
  },
  {
   "cell_type": "code",
   "execution_count": 51,
   "metadata": {},
   "outputs": [
    {
     "data": {
      "text/plain": [
       "(3992, 31)"
      ]
     },
     "execution_count": 51,
     "metadata": {},
     "output_type": "execute_result"
    }
   ],
   "source": [
    "#  TIME TO COMBINE THE FEATURES TOGETHER USING SKLEARN'S FEATUREUNION CLASS\n",
    "\n",
    "from sklearn.pipeline import FeatureUnion\n",
    "full_pipeline = FeatureUnion(transformer_list=[\n",
    "    ('num_pipeline', num_pipeline),\n",
    "    ('cat_pipeline', cat_pipeline)\n",
    "])\n",
    "\n",
    "final_super = full_pipeline.fit_transform(finals)\n",
    "\n",
    "#len(real_col_tr)\n",
    "#len(super_num)\n",
    "# DONE!!!! MODEL TI YA\n",
    "final_super.shape"
   ]
  },
  {
   "cell_type": "code",
   "execution_count": 52,
   "metadata": {
    "scrolled": false
   },
   "outputs": [
    {
     "data": {
      "text/plain": [
       "LinearRegression(copy_X=True, fit_intercept=True, n_jobs=-1, normalize=True)"
      ]
     },
     "execution_count": 52,
     "metadata": {},
     "output_type": "execute_result"
    }
   ],
   "source": [
    "from sklearn.linear_model import LinearRegression\n",
    "from sklearn.metrics import mean_squared_error, r2_score\n",
    "import numpy as np\n",
    "\n",
    "lr = LinearRegression(n_jobs=-1, normalize=True)\n",
    "lr.fit(final_super, super_label)"
   ]
  },
  {
   "cell_type": "code",
   "execution_count": 53,
   "metadata": {},
   "outputs": [
    {
     "data": {
      "text/plain": [
       "2955.3230406752223"
      ]
     },
     "execution_count": 53,
     "metadata": {},
     "output_type": "execute_result"
    }
   ],
   "source": [
    "lr_predictions = lr.predict(final_super)\n",
    "mse = mean_squared_error(super_label, lr_predictions)\n",
    "lr_rmse = np.sqrt(mse)\n",
    "lr_rmse"
   ]
  },
  {
   "cell_type": "code",
   "execution_count": 54,
   "metadata": {},
   "outputs": [
    {
     "name": "stdout",
     "output_type": "stream",
     "text": [
      "scores lr:  [2751.3418031  3236.30626631 3032.88802879 2866.4740299  2977.5126406\n",
      " 2802.2373171  2955.13533032 2931.13314173 3133.14679221 3080.93781657]\n",
      "\n",
      "mean score lr:  2976.711316664467\n",
      "\n",
      "std dev lr: +/- 142.05948439296213\n"
     ]
    }
   ],
   "source": [
    "#bring agbawo cross_validation_score inside\n",
    "\n",
    "from sklearn.model_selection import cross_val_score\n",
    "lr_score = cross_val_score(lr, final_super, super_label, \n",
    "                           scoring = 'neg_mean_squared_error', cv=10, n_jobs = 25)\n",
    "lrmse = np.sqrt(-lr_score)\n",
    "\n",
    "def show_result(score):         # Custom function to show scores, mean and std\n",
    "    print('scores lr: ', score)\n",
    "    print('')\n",
    "    print('mean score lr: ',score.mean())\n",
    "    print('')\n",
    "    print('std dev lr: +/-', score.std())\n",
    "    \n",
    "show_result(lrmse)"
   ]
  },
  {
   "cell_type": "code",
   "execution_count": 55,
   "metadata": {},
   "outputs": [
    {
     "name": "stdout",
     "output_type": "stream",
     "text": [
      "scores dtr:  [3768.1705032  3937.24014988 3828.87075979 3859.83551582 3795.30419741\n",
      " 3985.52002004 4005.05208291 3688.64452352 4163.22771531 3834.55164838]\n",
      "\n",
      "mean score dtr:  3886.641711627395\n",
      "\n",
      "std dev dtr: +/- 130.8465667174785\n"
     ]
    }
   ],
   "source": [
    "from sklearn.tree import DecisionTreeRegressor\n",
    "from sklearn.model_selection import cross_val_score\n",
    "dtr = DecisionTreeRegressor(max_depth=15)\n",
    "\n",
    "dtscores  = cross_val_score(dtr, final_super, super_label, \n",
    "                            scoring='neg_mean_squared_error', cv=10, n_jobs=15)\n",
    "drmse = np.sqrt(-dtscores)\n",
    "\n",
    "def show_result(score):         # Custom function to show scores, mean and std\n",
    "    print('scores dtr: ', score)\n",
    "    print('')\n",
    "    print('mean score dtr: ',score.mean())\n",
    "    print('')\n",
    "    print('std dev dtr: +/-', score.std())\n",
    "    \n",
    "show_result(drmse)"
   ]
  },
  {
   "cell_type": "code",
   "execution_count": 56,
   "metadata": {},
   "outputs": [
    {
     "name": "stdout",
     "output_type": "stream",
     "text": [
      "scores RandomForestRegressor:  [2912.94349144 3391.20157111 3093.04674676 3184.26850196 3094.57969443\n",
      " 3018.28405624 3055.76980795 2991.48830806 3230.13307796 3135.77363261]\n",
      "\n",
      "mean score RandomForestRegressor:  3110.748888853198\n",
      "\n",
      "std dev RandomForestRegressor: +/- 128.23220249833642\n"
     ]
    }
   ],
   "source": [
    "from sklearn.ensemble import RandomForestRegressor\n",
    "\n",
    "rfr = RandomForestRegressor(max_depth=1500, n_estimators=50, n_jobs=25, warm_start=True, max_leaf_nodes=1200)\n",
    "\n",
    "rscores = cross_val_score(rfr, final_super, super_label, \n",
    "                         scoring='neg_mean_squared_error', cv=10, n_jobs=50)\n",
    "\n",
    "rfrmse = np.sqrt(-rscores)\n",
    "\n",
    "def show_result(score):         # Custom function to show scores, mean and std\n",
    "    print('scores RandomForestRegressor: ', score)\n",
    "    print('')\n",
    "    print('mean score RandomForestRegressor: ',score.mean())\n",
    "    print('')\n",
    "    print('std dev RandomForestRegressor: +/-', score.std())\n",
    "    \n",
    "show_result(rfrmse)"
   ]
  },
  {
   "cell_type": "code",
   "execution_count": 57,
   "metadata": {},
   "outputs": [],
   "source": [
    "#rfr.fit(final_super, super_label)"
   ]
  },
  {
   "cell_type": "code",
   "execution_count": 58,
   "metadata": {},
   "outputs": [],
   "source": [
    "clf = RandomForestRegressor()\n",
    "clf.fit(final_super, super_label)\n",
    "Fi = (clf.feature_importances_ * 100).astype(int)"
   ]
  },
  {
   "cell_type": "code",
   "execution_count": null,
   "metadata": {},
   "outputs": [],
   "source": []
  },
  {
   "cell_type": "code",
   "execution_count": 59,
   "metadata": {},
   "outputs": [
    {
     "data": {
      "text/plain": [
       "RandomForestRegressor(bootstrap=True, criterion='mse', max_depth=None,\n",
       "           max_features='auto', max_leaf_nodes=None,\n",
       "           min_impurity_decrease=0.0, min_impurity_split=None,\n",
       "           min_samples_leaf=1, min_samples_split=2,\n",
       "           min_weight_fraction_leaf=0.0, n_estimators=10, n_jobs=1,\n",
       "           oob_score=False, random_state=None, verbose=0, warm_start=False)"
      ]
     },
     "execution_count": 59,
     "metadata": {},
     "output_type": "execute_result"
    }
   ],
   "source": [
    "final_super_df = pd.DataFrame(final_super)\n",
    "fi_check = final_super_df.drop([4,5,6,7,8,9,10,11,12,13,14,15,16,17,18,\n",
    "                    19,20,21,22,23,24,25,26,27,29,30], axis=1)\n",
    "\n",
    "clf = RandomForestRegressor()\n",
    "clf.fit(fi_check, super_label)"
   ]
  },
  {
   "cell_type": "code",
   "execution_count": 60,
   "metadata": {},
   "outputs": [
    {
     "data": {
      "text/plain": [
       "array([ 8, 14, 34, 18, 24])"
      ]
     },
     "execution_count": 60,
     "metadata": {},
     "output_type": "execute_result"
    }
   ],
   "source": [
    "Fi = (clf.feature_importances_ * 100).astype(int)\n",
    "Fi"
   ]
  },
  {
   "cell_type": "code",
   "execution_count": 61,
   "metadata": {},
   "outputs": [
    {
     "name": "stdout",
     "output_type": "stream",
     "text": [
      "scores RandomForestRegressor:  [2862.94621374 3402.5651512  3144.03380496 3201.77536054 3004.2834622\n",
      " 2979.71842969 3105.39988813 3004.46180943 3353.1835201  3140.8885537 ]\n",
      "\n",
      "mean score RandomForestRegressor:  3119.92561936883\n",
      "\n",
      "std dev RandomForestRegressor: +/- 159.5703137511844\n"
     ]
    }
   ],
   "source": [
    "rft = RandomForestRegressor()\n",
    "\n",
    "rscores = cross_val_score(rfr, fi_check, super_label, \n",
    "                         scoring='neg_mean_squared_error', cv=10, n_jobs=50)\n",
    "\n",
    "rfrmse = np.sqrt(-rscores)\n",
    "\n",
    "def show_result(score):         # Custom function to show scores, mean and std\n",
    "    print('scores RandomForestRegressor: ', score)\n",
    "    print('')\n",
    "    print('mean score RandomForestRegressor: ',score.mean())\n",
    "    print('')\n",
    "    print('std dev RandomForestRegressor: +/-', score.std())\n",
    "    \n",
    "show_result(rfrmse)"
   ]
  },
  {
   "cell_type": "code",
   "execution_count": null,
   "metadata": {},
   "outputs": [],
   "source": []
  },
  {
   "cell_type": "code",
   "execution_count": 66,
   "metadata": {},
   "outputs": [
    {
     "data": {
      "text/plain": [
       "<matplotlib.axes._subplots.AxesSubplot at 0x410e00b668>"
      ]
     },
     "execution_count": 66,
     "metadata": {},
     "output_type": "execute_result"
    },
    {
     "data": {
      "image/png": "[encoded data removed]",
      "text/plain": [
       "<matplotlib.figure.Figure at 0x4113206358>"
      ]
     },
     "metadata": {},
     "output_type": "display_data"
    }
   ],
   "source": [
    "sns.distplot(super_num.Product_Shelf_Visibility, color='maroon')"
   ]
  },
  {
   "cell_type": "code",
   "execution_count": null,
   "metadata": {},
   "outputs": [],
   "source": []
  }
 ],
 "metadata": {
  "kernelspec": {
   "display_name": "Python 3",
   "language": "python",
   "name": "python3"
  },
  "language_info": {
   "codemirror_mode": {
    "name": "ipython",
    "version": 3
   },
   "file_extension": ".py",
   "mimetype": "text/x-python",
   "name": "python",
   "nbconvert_exporter": "python",
   "pygments_lexer": "ipython3",
   "version": "3.6.4"
  }
 },
 "nbformat": 4,
 "nbformat_minor": 2
}
